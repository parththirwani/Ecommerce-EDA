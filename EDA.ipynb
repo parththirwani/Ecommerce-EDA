{
 "cells": [
  {
   "cell_type": "code",
   "execution_count": null,
   "metadata": {},
   "outputs": [],
   "source": [
    "!pip install matplotlib pandas seaborn jupyter openpyxl"
   ]
  },
  {
   "cell_type": "code",
   "execution_count": 5,
   "metadata": {},
   "outputs": [],
   "source": [
    "import pandas as pd\n",
    "import matplotlib.pyplot as plt\n",
    "import seaborn as sns"
   ]
  },
  {
   "cell_type": "code",
   "execution_count": 45,
   "metadata": {},
   "outputs": [],
   "source": [
    "import os\n",
    "from dotenv import load_dotenv\n",
    "\n",
    "# Load environment variables from .env file\n",
    "load_dotenv()\n",
    "\n",
    "# Get dataset path\n",
    "dataset_path = os.getenv(\"DATASET_PATH\")"
   ]
  },
  {
   "cell_type": "code",
   "execution_count": null,
   "metadata": {},
   "outputs": [],
   "source": [
    "df = pd.read_excel(dataset_path)\n",
    "\n",
    "# Display the first few rows\n",
    "df.head()"
   ]
  },
  {
   "cell_type": "code",
   "execution_count": null,
   "metadata": {},
   "outputs": [],
   "source": [
    "# Check the DataFrame info\n",
    "df.info()\n",
    "\n",
    "# Check for missing values\n",
    "df.isnull().sum()\n"
   ]
  },
  {
   "cell_type": "code",
   "execution_count": 12,
   "metadata": {},
   "outputs": [],
   "source": [
    "# Convert 'Purchase Date' to datetime\n",
    "df['Purchase Date'] = pd.to_datetime(df['Purchase Date'])\n",
    "\n",
    "# Drop duplicates\n",
    "df.drop_duplicates(inplace=True)\n",
    "\n",
    "# Handle missing values (if any)\n",
    "# For example, drop rows with missing values\n",
    "df.dropna(inplace=True)\n"
   ]
  },
  {
   "cell_type": "code",
   "execution_count": null,
   "metadata": {},
   "outputs": [],
   "source": [
    "import matplotlib.pyplot as plt\n",
    "import matplotlib.dates as mdates\n",
    "\n",
    "# Aggregate sales over time\n",
    "sales_over_time = df.groupby('Purchase Date')['Sales'].sum().reset_index()\n",
    "\n",
    "# Set the figure size and style\n",
    "plt.figure(figsize=(14, 7), dpi=100)\n",
    "sns.set_style('whitegrid')\n",
    "sns.set_palette('colorblind')\n",
    "\n",
    "# Plot the sales over time\n",
    "plt.plot(sales_over_time['Purchase Date'], sales_over_time['Sales'], linewidth=2, color='#1f77b4')\n",
    "\n",
    "# Format the x-axis for dates\n",
    "plt.gca().xaxis.set_major_locator(mdates.MonthLocator(interval=3))\n",
    "plt.gca().xaxis.set_major_formatter(mdates.DateFormatter('%b %Y'))\n",
    "plt.xticks(rotation=45)\n",
    "\n",
    "# Add labels and title\n",
    "plt.title('Sales Over Time', fontsize=22, fontweight='bold')\n",
    "plt.xlabel('Purchase Date', fontsize=18)\n",
    "plt.ylabel('Total Sales', fontsize=18)\n",
    "plt.xticks(fontsize=14)\n",
    "plt.yticks(fontsize=14)\n",
    "\n",
    "\n",
    "# Add gridlines\n",
    "plt.grid(visible=True, which='major', linestyle='--', linewidth=0.5)\n",
    "\n",
    "# Remove top and right spines\n",
    "sns.despine()\n",
    "\n",
    "# Show the plot\n",
    "plt.savefig('sales_over_time.png', dpi=300, bbox_inches='tight')\n",
    "plt.tight_layout()\n",
    "plt.show()\n"
   ]
  },
  {
   "cell_type": "code",
   "execution_count": null,
   "metadata": {},
   "outputs": [],
   "source": [
    "# Calculate sales by category\n",
    "category_sales = df.groupby('Category')['Sales'].sum().reset_index()\n",
    "\n",
    "# Set figure size\n",
    "plt.figure(figsize=(10, 6), dpi=100)\n",
    "\n",
    "# Create barplot\n",
    "sns.barplot(x='Category', y='Sales', data=category_sales, palette='pastel')\n",
    "\n",
    "# Add labels and title\n",
    "plt.title('Sales by Category', fontsize=22, fontweight='bold')\n",
    "plt.xlabel('Category', fontsize=18)\n",
    "plt.ylabel('Total Sales', fontsize=18)\n",
    "plt.xticks(fontsize=14)\n",
    "plt.yticks(fontsize=14)\n",
    "\n",
    "# Annotate bars\n",
    "for index, row in category_sales.iterrows():\n",
    "    plt.text(index, row['Sales'] + 5000, f\"${row['Sales']:,.0f}\", ha='center', fontsize=14)\n",
    "\n",
    "# Remove spines\n",
    "sns.despine()\n",
    "\n",
    "# Show plot\n",
    "plt.savefig('sales_by_category.png', dpi=300, bbox_inches='tight')\n",
    "plt.tight_layout()\n",
    "plt.show()\n"
   ]
  },
  {
   "cell_type": "code",
   "execution_count": null,
   "metadata": {},
   "outputs": [],
   "source": [
    "# Set figure size\n",
    "plt.figure(figsize=(12, 8), dpi=100)\n",
    "\n",
    "# Create scatter plot\n",
    "sns.scatterplot(x='Discount', y='Profit', data=df, hue='Category', alpha=0.7, edgecolor='w', s=100)\n",
    "\n",
    "# Add regression line\n",
    "sns.regplot(x='Discount', y='Profit', data=df, scatter=False, color='black', line_kws={'linewidth':2})\n",
    "\n",
    "# Add labels and title\n",
    "plt.title('Profit vs. Discount', fontsize=22, fontweight='bold')\n",
    "plt.xlabel('Discount', fontsize=18)\n",
    "plt.ylabel('Profit', fontsize=18)\n",
    "plt.xticks(fontsize=14)\n",
    "plt.yticks(fontsize=14)\n",
    "\n",
    "# Add legend\n",
    "plt.legend(title='Category', fontsize=12, title_fontsize=14)\n",
    "\n",
    "# Remove spines\n",
    "sns.despine()\n",
    "\n",
    "# Show plot\n",
    "plt.savefig('profit_discount_ratio.png', dpi=300, bbox_inches='tight')\n",
    "plt.tight_layout()\n",
    "plt.show()\n"
   ]
  },
  {
   "cell_type": "code",
   "execution_count": null,
   "metadata": {},
   "outputs": [],
   "source": [
    "# Calculate correlation\n",
    "corr = df[['Sales', 'Quantity', 'Discount', 'Profit']].corr()\n",
    "\n",
    "# Set figure size\n",
    "plt.figure(figsize=(8, 6), dpi=100)\n",
    "\n",
    "# Create heatmap\n",
    "sns.heatmap(corr, annot=True, fmt='.2f', cmap='coolwarm', annot_kws={\"size\":14}, linewidths=0.5)\n",
    "\n",
    "# Add title\n",
    "plt.title('Correlation Matrix', fontsize=22, fontweight='bold')\n",
    "\n",
    "# Adjust ticks\n",
    "plt.xticks(fontsize=14)\n",
    "plt.yticks(fontsize=14)\n",
    "\n",
    "# Show plot\n",
    "plt.savefig('correlation_matrix.png', dpi=300, bbox_inches='tight')\n",
    "plt.tight_layout()\n",
    "plt.show()\n"
   ]
  },
  {
   "cell_type": "code",
   "execution_count": null,
   "metadata": {},
   "outputs": [],
   "source": [
    "# Calculate sales by region\n",
    "region_sales = df.groupby('Region')['Sales'].sum().reset_index().sort_values('Sales', ascending=True)\n",
    "\n",
    "# Set figure size\n",
    "plt.figure(figsize=(12, 8), dpi=100)\n",
    "\n",
    "# Create horizontal barplot\n",
    "sns.barplot(x='Sales', y='Region', data=region_sales, palette='magma')\n",
    "\n",
    "# Add labels and title\n",
    "plt.title('Sales by Region', fontsize=22, fontweight='bold')\n",
    "plt.xlabel('Total Sales', fontsize=18)\n",
    "plt.ylabel('Region', fontsize=18)\n",
    "plt.xticks(fontsize=14)\n",
    "plt.yticks(fontsize=14)\n",
    "\n",
    "# Annotate bars\n",
    "for index, row in region_sales.iterrows():\n",
    "    plt.text(row['Sales'] + 5000, index, f\"${row['Sales']:,.0f}\", va='center', fontsize=14)\n",
    "\n",
    "# Remove spines\n",
    "sns.despine(left=True, bottom=True)\n",
    "\n",
    "# Show plot\n",
    "plt.savefig('sales_by_region.png', dpi=300, bbox_inches='tight')\n",
    "plt.tight_layout()\n",
    "plt.show()\n"
   ]
  },
  {
   "cell_type": "code",
   "execution_count": null,
   "metadata": {},
   "outputs": [],
   "source": [
    "# Calculate profit margin\n",
    "df['Profit Margin'] = (df['Profit'] / df['Sales']) * 100\n",
    "\n",
    "# Average profit margin by category\n",
    "margin_by_category = df.groupby('Category')['Profit Margin'].mean().reset_index()\n",
    "\n",
    "# Plot\n",
    "plt.figure(figsize=(10, 6), dpi=100)\n",
    "sns.barplot(x='Category', y='Profit Margin', data=margin_by_category, palette='Set2')\n",
    "\n",
    "# Formatting\n",
    "plt.title('Average Profit Margin by Category', fontsize=22, fontweight='bold')\n",
    "plt.xlabel('Category', fontsize=18)\n",
    "plt.ylabel('Profit Margin (%)', fontsize=18)\n",
    "plt.xticks(fontsize=14)\n",
    "plt.yticks(fontsize=14)\n",
    "\n",
    "# Annotate bars\n",
    "for index, row in margin_by_category.iterrows():\n",
    "    plt.text(index, row['Profit Margin'] + 0.5, f\"{row['Profit Margin']:.1f}%\", ha='center', fontsize=14)\n",
    "\n",
    "sns.despine()\n",
    "plt.savefig('avg_profit_by_category.png', dpi=300, bbox_inches='tight')\n",
    "plt.tight_layout()\n",
    "plt.show()\n"
   ]
  },
  {
   "cell_type": "code",
   "execution_count": null,
   "metadata": {},
   "outputs": [],
   "source": [
    "# Calculate monthly sales\n",
    "monthly_sales = df.set_index('Purchase Date').resample('M')['Sales'].sum()\n",
    "\n",
    "# Calculate growth rate\n",
    "growth_rate = monthly_sales.pct_change().fillna(0) * 100\n",
    "\n",
    "# Plot\n",
    "plt.figure(figsize=(14, 7), dpi=100)\n",
    "sns.lineplot(x=monthly_sales.index, y=growth_rate, marker='o', linewidth=2)\n",
    "\n",
    "# Formatting\n",
    "plt.title('Monthly Sales Growth Rate', fontsize=22, fontweight='bold')\n",
    "plt.xlabel('Month', fontsize=18)\n",
    "plt.ylabel('Growth Rate (%)', fontsize=18)\n",
    "plt.xticks(rotation=45, fontsize=14)\n",
    "plt.yticks(fontsize=14)\n",
    "plt.axhline(0, color='red', linestyle='--', linewidth=1)\n",
    "plt.grid(True)\n",
    "sns.despine()\n",
    "plt.savefig('monthly_sales_growth_rate.png', dpi=300, bbox_inches='tight')\n",
    "plt.tight_layout()\n",
    "plt.show()\n"
   ]
  },
  {
   "cell_type": "markdown",
   "metadata": {},
   "source": [
    "Second Dataset\n"
   ]
  },
  {
   "cell_type": "code",
   "execution_count": 65,
   "metadata": {},
   "outputs": [],
   "source": [
    "import os\n",
    "from dotenv import load_dotenv\n",
    "\n",
    "# Load environment variables from .env file\n",
    "load_dotenv()\n",
    "\n",
    "# Get dataset path\n",
    "dataset_path = os.getenv(\"BIG_DATASET_PATH\")"
   ]
  },
  {
   "cell_type": "code",
   "execution_count": null,
   "metadata": {},
   "outputs": [],
   "source": [
    "data=pd.read_excel(dataset_path)"
   ]
  },
  {
   "cell_type": "code",
   "execution_count": 66,
   "metadata": {},
   "outputs": [],
   "source": [
    "data['Order Date'] = pd.to_datetime(data['Order Date'])\n",
    "data['Ship Date'] = pd.to_datetime(data['Ship Date'])\n"
   ]
  },
  {
   "cell_type": "code",
   "execution_count": 67,
   "metadata": {},
   "outputs": [],
   "source": [
    "data['Order Month'] = data['Order Date'].dt.to_period('M')\n",
    "data['Order Year'] = data['Order Date'].dt.year\n"
   ]
  },
  {
   "cell_type": "code",
   "execution_count": 62,
   "metadata": {},
   "outputs": [],
   "source": [
    "# Create 'Big_EDA' directory if it doesn't exist\n",
    "output_dir = 'Big_EDA'\n",
    "if not os.path.exists(output_dir):\n",
    "    os.makedirs(output_dir)\n"
   ]
  },
  {
   "cell_type": "code",
   "execution_count": 68,
   "metadata": {},
   "outputs": [],
   "source": [
    "data = data.dropna()\n"
   ]
  },
  {
   "cell_type": "code",
   "execution_count": 69,
   "metadata": {},
   "outputs": [],
   "source": [
    "plt.figure(figsize=(14, 7))\n",
    "monthly_sales = data.groupby('Order Month')['Sales'].sum()\n",
    "monthly_sales.plot()\n",
    "plt.title('Monthly Sales Trend', fontsize=16)\n",
    "plt.xlabel('Month')\n",
    "plt.ylabel('Total Sales')\n",
    "plt.xticks(rotation=45)\n",
    "plt.tight_layout()\n",
    "plt.savefig(os.path.join(output_dir, 'monthly_sales_trend.png'))\n",
    "plt.close()\n"
   ]
  },
  {
   "cell_type": "code",
   "execution_count": 70,
   "metadata": {},
   "outputs": [],
   "source": [
    "plt.figure(figsize=(14, 7))\n",
    "top_products = data.groupby('Product Name')['Sales'].sum().sort_values(ascending=False).head(10)\n",
    "sns.barplot(x=top_products.values, y=top_products.index)\n",
    "plt.title('Top 10 Products by Sales', fontsize=16)\n",
    "plt.xlabel('Total Sales')\n",
    "plt.ylabel('Product Name')\n",
    "plt.tight_layout()\n",
    "plt.savefig(os.path.join(output_dir, 'top_products_by_sales.png'))\n",
    "plt.close()\n"
   ]
  },
  {
   "cell_type": "code",
   "execution_count": 72,
   "metadata": {},
   "outputs": [],
   "source": [
    "plt.figure(figsize=(10, 6))\n",
    "sns.scatterplot(data=data, x='Sales', y='Profit', hue='Category', alpha=0.6)\n",
    "plt.title('Profit vs. Sales', fontsize=16)\n",
    "plt.xlabel('Sales')\n",
    "plt.ylabel('Profit')\n",
    "plt.legend(title='Category')\n",
    "plt.tight_layout()\n",
    "plt.savefig(os.path.join(output_dir, 'profit_vs_sales.png'))\n",
    "plt.close()\n"
   ]
  },
  {
   "cell_type": "code",
   "execution_count": 73,
   "metadata": {},
   "outputs": [],
   "source": [
    "plt.figure(figsize=(12, 6))\n",
    "region_sales = data.groupby('Region')['Sales'].sum().reset_index()\n",
    "sns.barplot(data=region_sales, x='Region', y='Sales')\n",
    "plt.title('Total Sales by Region', fontsize=16)\n",
    "plt.xlabel('Region')\n",
    "plt.ylabel('Total Sales')\n",
    "plt.tight_layout()\n",
    "plt.savefig(os.path.join(output_dir, 'sales_by_region.png'))\n",
    "plt.close()\n"
   ]
  },
  {
   "cell_type": "code",
   "execution_count": 74,
   "metadata": {},
   "outputs": [],
   "source": [
    "plt.figure(figsize=(8, 6))\n",
    "segment_sales = data.groupby('Segment')['Sales'].sum().reset_index()\n",
    "sns.barplot(data=segment_sales, x='Segment', y='Sales')\n",
    "plt.title('Total Sales by Customer Segment', fontsize=16)\n",
    "plt.xlabel('Segment')\n",
    "plt.ylabel('Total Sales')\n",
    "plt.tight_layout()\n",
    "plt.savefig(os.path.join(output_dir, 'sales_by_segment.png'))\n",
    "plt.close()\n"
   ]
  },
  {
   "cell_type": "code",
   "execution_count": 75,
   "metadata": {},
   "outputs": [],
   "source": [
    "plt.figure(figsize=(8, 6))\n",
    "shipmode_sales = data.groupby('Ship Mode')['Sales'].sum().reset_index()\n",
    "sns.barplot(data=shipmode_sales, x='Ship Mode', y='Sales')\n",
    "plt.title('Total Sales by Shipping Mode', fontsize=16)\n",
    "plt.xlabel('Ship Mode')\n",
    "plt.ylabel('Total Sales')\n",
    "plt.tight_layout()\n",
    "plt.savefig(os.path.join(output_dir, 'sales_by_ship_mode.png'))\n",
    "plt.close()\n"
   ]
  },
  {
   "cell_type": "code",
   "execution_count": 78,
   "metadata": {},
   "outputs": [],
   "source": [
    "data['Shipping Time'] = (data['Ship Date'] - data['Order Date']).dt.days\n",
    "plt.figure(figsize=(10, 6))\n",
    "sns.histplot(data['Shipping Time'], bins=range(0, data['Shipping Time'].max() + 1), kde=False)\n",
    "plt.title('Distribution of Shipping Time', fontsize=16)\n",
    "plt.xlabel('Shipping Time (Days)')\n",
    "plt.ylabel('Frequency')\n",
    "plt.tight_layout()\n",
    "plt.savefig(os.path.join(output_dir, 'shipping_time_distribution.png'))\n",
    "plt.close()\n"
   ]
  },
  {
   "cell_type": "code",
   "execution_count": 79,
   "metadata": {},
   "outputs": [],
   "source": [
    "# Profit Margin Calculation\n",
    "data['Profit Margin'] = (data['Profit'] / data['Sales']) * 100\n",
    "\n",
    "# Profit Margin by Sub-Category\n",
    "plt.figure(figsize=(14, 7))\n",
    "profit_margin = data.groupby(['Category', 'Sub-Category'])['Profit Margin'].mean().reset_index()\n",
    "sns.barplot(data=profit_margin, x='Sub-Category', y='Profit Margin', hue='Category')\n",
    "plt.title('Average Profit Margin by Sub-Category', fontsize=16)\n",
    "plt.xlabel('Sub-Category')\n",
    "plt.ylabel('Average Profit Margin (%)')\n",
    "plt.legend(title='Category', bbox_to_anchor=(1.05, 1), loc='upper left')\n",
    "plt.xticks(rotation=45)\n",
    "plt.tight_layout()\n",
    "plt.savefig(os.path.join(output_dir, 'profit_margin_by_subcategory.png'))\n",
    "plt.close()\n"
   ]
  },
  {
   "cell_type": "code",
   "execution_count": 80,
   "metadata": {},
   "outputs": [],
   "source": [
    "# Number of Orders per Customer\n",
    "customer_orders = data.groupby('Customer ID')['Order ID'].nunique().reset_index()\n",
    "customer_orders.columns = ['Customer ID', 'Order Count']\n",
    "\n",
    "plt.figure(figsize=(10, 6))\n",
    "sns.histplot(customer_orders['Order Count'], bins=range(1, customer_orders['Order Count'].max() + 1), kde=False)\n",
    "plt.title('Distribution of Orders per Customer', fontsize=16)\n",
    "plt.xlabel('Number of Orders')\n",
    "plt.ylabel('Number of Customers')\n",
    "plt.tight_layout()\n",
    "plt.savefig(os.path.join(output_dir, 'orders_per_customer.png'))\n",
    "plt.close()\n"
   ]
  },
  {
   "cell_type": "code",
   "execution_count": null,
   "metadata": {},
   "outputs": [],
   "source": []
  }
 ],
 "metadata": {
  "kernelspec": {
   "display_name": "Python 3",
   "language": "python",
   "name": "python3"
  },
  "language_info": {
   "codemirror_mode": {
    "name": "ipython",
    "version": 3
   },
   "file_extension": ".py",
   "mimetype": "text/x-python",
   "name": "python",
   "nbconvert_exporter": "python",
   "pygments_lexer": "ipython3",
   "version": "3.11.9"
  }
 },
 "nbformat": 4,
 "nbformat_minor": 2
}
